{
 "cells": [
  {
   "cell_type": "markdown",
   "metadata": {},
   "source": [
    "# Artigos utilizados"
   ]
  },
  {
   "cell_type": "markdown",
   "metadata": {},
   "source": [
    "Inteligência artificial:\n",
    "\n",
    "- Estudo dos benefícios da inclusão de IA em testes de\n",
    "  software com Selenium WebDriver e Applitools Eyes - https://adelpha-api.mackenzie.br/server/api/core/bitstreams/6587740b-6f2c-4bce-a986-b8423d0f1062/content\n",
    "\n",
    "- Mapeamento sistemático das abordagens éticas na tomada de\n",
    "  decisão em navegação autônoma - https://adelpha-api.mackenzie.br/server/api/core/bitstreams/607a88dc-d545-4fa9-a58c-1db252fe1fe0/content\n",
    "\n",
    "- Reconhecimento de Emoções em Mineração de\n",
    "  Argumentos com Deep Learning - https://adelpha-api.mackenzie.br/server/api/core/bitstreams/3277b8c6-2374-46d8-b469-5e3007bbdf2d/content\n",
    "\n",
    "Código civil:\n",
    "\n",
    "- DESCONSIDERAÇÃO DA PERSONALIDADE JURÍDICA NO DIREITO DO\n",
    "  CONSUMIDOR E O APARENTE CONFLITO COM A LEI DE LIBERDADE\n",
    "  ECONÔMICA - https://adelpha-api.mackenzie.br/server/api/core/bitstreams/00b417ce-9119-4407-a595-52c46d27b389/content\n",
    "\n",
    "- DESCONSIDERAÇÃO DA PERSONALIDADE JURÍDICA E A  \n",
    "  RESPONSABILIDADE TRIBUTÁRIA - https://adelpha-api.mackenzie.br/server/api/core/bitstreams/00b417ce-9119-4407-a595-52c46d27b389/content\n",
    "\n",
    "- A EXTENSÃO DOS EFEITOS DA CLÁUSULA CONTRATUAL LIMITADORA OU\n",
    "  EXCLUDENTE DO DEVER DE INDENIZAR DECORRENTE DA\n",
    "  RESPONSABILIDADE CIVIL DOS APLICATIVOS DE INTERMEDIAÇÃO DE\n",
    "  TRANSPORTE INDIVIDUAL PRIVADO NO BRASIL - https://adelpha-api.mackenzie.br/server/api/core/bitstreams/d080feba-3b17-4def-9cb3-48210ee5b6b5/content\n"
   ]
  },
  {
   "cell_type": "code",
   "execution_count": 1,
   "metadata": {},
   "outputs": [
    {
     "name": "stdout",
     "output_type": "stream",
     "text": [
      "Note: you may need to restart the kernel to use updated packages.\n",
      "Note: you may need to restart the kernel to use updated packages.\n",
      "Note: you may need to restart the kernel to use updated packages.\n",
      "Note: you may need to restart the kernel to use updated packages.\n",
      "Note: you may need to restart the kernel to use updated packages.\n",
      "Note: you may need to restart the kernel to use updated packages.\n"
     ]
    }
   ],
   "source": [
    "%pip install openai -U -q\n",
    "%pip install PyPDF2 -U -q\n",
    "%pip install langchain -U -q\n",
    "%pip install python-dotenv -U -q\n",
    "%pip install cryptography -q\n",
    "%pip install tiktoken -U -q"
   ]
  },
  {
   "cell_type": "markdown",
   "metadata": {},
   "source": [
    "# Search GPT"
   ]
  },
  {
   "cell_type": "code",
   "execution_count": null,
   "metadata": {},
   "outputs": [],
   "source": [
    "'''\n",
    "Artigos:\n",
    "\n",
    "Accelerating Innovation With Generative AI: AI-Augmented Digital Prototyping and Innovation Methods - https://ieeexplore.ieee.org/document/10115412\n",
    "An Enhanced AI-Based Network Intrusion Detection System Using Generative Adversarial Networks - https://ieeexplore.ieee.org/document/9908159\n",
    "Automatic Chinese Meme Generation Using Deep Neural Networks - https://ieeexplore.ieee.org/document/9611242\n",
    "A Survey on ChatGPT: AI-Generated Contents, Challenges, and Solutions - https://ieeexplore.ieee.org/document/10221755\n",
    "A Systematic Literature Review on Text Generation Using Deep Neural Network Models - https://ieeexplore.ieee.org/document/9771452\n",
    "Can Machines Tell Stories? A Comparative Study of Deep Neural Language Models and Metrics - https://ieeexplore.ieee.org/document/9194709\n",
    "Chat2VIS: Generating Data Visualizations via Natural Language Using ChatGPT, Codex and GPT-3 Large Language Models - https://ieeexplore.ieee.org/document/10121440\n",
    "Data Curation and Quality Evaluation for Machine Learning-Based Cyber Intrusion Detection - https://ieeexplore.ieee.org/document/9907008\n",
    "Denoising-Based Decoupling-Contrastive Learning for Ubiquitous Synthetic Face Images - https://ieeexplore.ieee.org/document/10262007\n",
    "Evaluating Differentially Private Generative Adversarial Networks Over Membership Inference Attack - https://ieeexplore.ieee.org/document/9656913\n",
    "From ChatGPT to ThreatGPT: Impact of Generative AI in Cybersecurity and Privacy - https://ieeexplore.ieee.org/document/10198233\n",
    "Generating Role-Playing Game Quests With GPT Language Models - https://ieeexplore.ieee.org/document/9980408\n",
    "Hierarchical Reinforcement Learning With Guidance for Multi-Domain Dialogue Policy - https://ieeexplore.ieee.org/document/10011569\n",
    "IRWoZ: Constructing an Industrial Robot Wizard-of-OZ Dialoguing Dataset - https://ieeexplore.ieee.org/document/10076424\n",
    "K-LM: Knowledge Augmenting in Language Models Within the Scholarly Domain - https://ieeexplore.ieee.org/document/9866735\n",
    "Leveraging Symbolic Knowledge Bases for Commonsense Natural Language Inference using Pattern Theory - https://ieeexplore.ieee.org/document/10158053\n",
    "Membership Inference Attacks With Token-Level Deduplication on Korean Language Models - https://ieeexplore.ieee.org/document/10025743\n",
    "Static Malware Detection Using Stacked BiLSTM and GPT-2 - https://ieeexplore.ieee.org/document/9785789\n",
    "TaughtNet: Learning Multi-Task Biomedical Named Entity Recognition From Single-Task Teachers - https://ieeexplore.ieee.org/document/10041925\n",
    "ToD4IR: A Humanised Task-Oriented Dialogue System for Industrial Robots - https://ieeexplore.ieee.org/document/9869659\n",
    "\n",
    "\n",
    "Total de paginas lidas: 323 paginas\n",
    "\n",
    "Custo total: 0.20 R$\n",
    "\n",
    "\n",
    "'''\n",
    "#Bibliotecas utilizadas\n",
    "import os\n",
    "from dotenv import load_dotenv\n",
    "import openai\n",
    "from langchain.vectorstores import FAISS\n",
    "from langchain.embeddings.openai import OpenAIEmbeddings\n",
    "from langchain.document_loaders import PyPDFLoader\n",
    "\n",
    "load_dotenv()\n",
    "\n",
    "chave = os.getenv(\"OPENAI_API_KEY\")\n",
    "openai.api_key = chave\n",
    "\n",
    "#Função para usar a API da OpenAi\n",
    "def Perguntar(prompt,persona):\n",
    "\tcompletion = openai.ChatCompletion.create(\n",
    "\t\tmodel=\"gpt-4\",\n",
    "\t\tstop=None,\n",
    "\t\tmessages=[{\"role\":\"system\", \"content\": persona},\n",
    "\t\t{\"role\": \"user\", \"content\": prompt}]\n",
    "\t)\n",
    "\treturn completion['choices'][0]['message']['content']\n",
    "\n",
    "\n",
    "path = os.getcwd()\n",
    "#print(path)\n",
    "print(\"Começou a ler o PDF.(Processo leva até 2 minutos para documento teste)\")\n",
    "#Lê o arquivo\n",
    "loader = PyPDFLoader(\"articles/Gabriel Tardochi Salles....pdf\")\n",
    "#Organiza em pedaços com o numero da página\n",
    "pages = loader.load_and_split()\n",
    "print(\"Criando o VectorStore. (Processo leva até 40 segundos para documento teste)\")\n",
    "faiss_index = FAISS.from_documents(pages, OpenAIEmbeddings(model=\"text-embedding-ada-002\"))\n",
    "print(\"Terminou de ler o pdf.\\nFazendo a Requisição a API.\")\n",
    "\n",
    "pergunta=\"O que é o chat gpt?\"\n",
    "print(f\"fazendo a primeira pergunta modelo:\\n{pergunta} \\n\\n\")\n",
    "#Loop de perguntas\n",
    "while True:\n",
    "\tbibliografia =\"\"\n",
    "\ttermo_pesquisa =\"\"\n",
    "\t#procurando os 3 termos com maior proximidade com a pergunta.\n",
    "\tdocs = faiss_index.similarity_search(pergunta, k=3)\n",
    "\t#Pega o conteudo guardado\n",
    "\tfor doc in docs:\n",
    "\t\ttermo_pesquisa+= \"Conteúdo: \" + str(doc.page_content)+ \"\\n\\n\"\n",
    "\t\tbibliografia+= f\"Pagina: {doc.metadata['page']} \\nConteúdo:\\n{doc.page_content} \\n\\n\"\n",
    "\t#Prepara a pergunta\n",
    "\ttermo_pesquisa+= f\"Use este conteúdo acima se ele tiver relevancia para pergunta abaixo:\\n{pergunta}\"\n",
    "\t#Melhora a personalidade\n",
    "\tpersona = \"Você é um especialista dem Generative Ai. Você deve responderde maneira clara, pensando bem antes de escrever.\"\n",
    "\t#Envia a requisição\n",
    "\tfinal = Perguntar(termo_pesquisa,persona)\n",
    "\tresposta = final\n",
    "\t#Resposta\n",
    "\tprint(resposta+\"\\n\\n\")\n",
    "\tprint(\"Referência:\\n\"+bibliografia)\n",
    "\tpergunta = input(\"Qual a sua pergunta: \")\n"
   ]
  }
 ],
 "metadata": {
  "kernelspec": {
   "display_name": ".venv",
   "language": "python",
   "name": "python3"
  },
  "language_info": {
   "codemirror_mode": {
    "name": "ipython",
    "version": 3
   },
   "file_extension": ".py",
   "mimetype": "text/x-python",
   "name": "python",
   "nbconvert_exporter": "python",
   "pygments_lexer": "ipython3",
   "version": "3.11.4"
  },
  "orig_nbformat": 4
 },
 "nbformat": 4,
 "nbformat_minor": 2
}
